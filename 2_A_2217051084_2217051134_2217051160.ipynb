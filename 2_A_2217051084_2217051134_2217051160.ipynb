# Program Jual Beli Mobil Online 
# Mata Kuliah : Responsi SDA
# Oleh Kelompok 2 
# 1. Reguel Andreas Agustinus Pangaribuan, NPM : 2217051084
# 2. Rizqi Ahmad Ghozali, NPM : 2217051134
# 3. Wahyu Dapa Saputra, NPM : 2217051160


# Dikerjakan oleh Reguel dalam implementasi awal memulai pembelian hingga pembayaran lunas mobil Sedan Lexus ES
import os

def myFunction():
    print("Sampai jumpa lagi!")
        
def myFunction1():
    print("Jika uang anda sudah cukup, Jangan lupa untuk mengunjungi toko kami kembali yaa... :)")
      
class TokoMobil:
    def __init__(self, nama_toko):
        self.nama_toko = nama_toko

    def sambut_pelanggan(self):
        print(f"Selamat datang di {self.nama_toko}!")
        print("=============== NEXT ===============>")

    def tanya_lanjut(self):
        jawaban = input("Apakah anda ingin memulai pembelian ? (ya/tidak) : ")
        if jawaban.lower() == "ya":
            print("Silahkan melanjutkan pembelian.")
            os.system('cls')
        elif jawaban.lower() == "tidak":
            print("Terima kasih atas kunjungan Anda.")
            exit()

        else:
            print("Mohon maaf, jawaban Anda tidak dikenali.")
            opsi = input("Apakah Anda ingin menghentikan pembelian ? (ya/tidak) : ")
            if opsi.lower() == "ya":
                print("Pembelian dihentikan!")
                exit()
            
toko = TokoMobil("Toko Mobil Online RGD")
toko.sambut_pelanggan()
toko.tanya_lanjut()
        
print("------------------------------------------------")
print("|                                              |")
print("|                 JUAL BELI                    |")
print("|                MOBIL ONLINE                  |")
print("|                   MEWAH                      |")
print("|                                              |")
print("------------------------------------------------\n")
print("", end="\n")

print("Tentukan jenis mobil mu!")
print("1) Mobil Sedan")
print("2) Mobil Keluarga")

pilihan = int(input("Pilihan mu : "))
print()

#Kalau yang dipilih jenis mobil sedan
if pilihan == 1:
    os.system('cls')
    print("------------------------------------------------")
    print("|                                              |")
    print("|                 JUAL BELI                    |")
    print("|                MOBIL ONLINE                  |")
    print("|                   MEWAH                      |")
    print("|                                              |")
    print("------------------------------------------------\n")
    print("", end="\n")

    print("1) Sedan Lexus ES            = Rp 1.040.000.000")
    print("2) Honda Civic               = Rp 1.180.000.000")
    mobil1 = int(input("Tentukan mobil yang ingin dibeli : "))

    mobil_list = []
    ulangi = 'y'
    counter = 0
    
    while ulangi.lower() == 'y':
        if mobil1 == 1:
            nama_mobil1 = "Sedan Lexus ES"
            harga_mobil1 = 1040000000
        elif mobil1 == 2:
            nama_mobil1 = "Honda Civic"
            harga_mobil1 = 1180000000
        else:
            print("Mobil yang anda pilih tidak tersedia.")
            continue

        jumlah_mobil1 = int(input("Tentukan jumlah mobil yang ingin dibeli : "))
        mobil_list.append((nama_mobil1, jumlah_mobil1))
        counter += 1
            
        ulangi = input("Apakah saudara ingin menambah lagi ? (y/t) : ")

    if ulangi != 'y':
        print("Jumlah mobil yang ingin saudara beli adalah", ((counter - 1) + jumlah_mobil1))
        print()
    
        os.system('cls')
        Nama = ""
        Alamat = ""
        Pekerjaan = ""
        Usia = 0
        Penghasilan = 0

        print("------------------------------------------------")
        print("|                                              |")
        print("|                 JUAL BELI                    |")
        print("|                MOBIL ONLINE                  |")
        print("|                   MEWAH                      |")
        print("|                                              |")
        print("------------------------------------------------\n")
        print("", end="\n")


        print("Harap mengisi data diri anda di bawah ini\n")

        nama = input("Nama\t\t\t: ")
        usia = int(input("Usia\t\t\t: "))
        alamat = input("Alamat\t\t\t: ")
        pekerjaan = input("Pekerjaan\t\t: ")
        penghasilan = int(input("Penghasilan/bulan \t: "))

        os.system('cls')
        pilihan = 0
        nml = 0
        cicil = 0

        print("------------------------------------------------")
        print("|                                              |")
        print("|                 JUAL BELI                    |")
        print("|                MOBIL ONLINE                  |")
        print("|                   MEWAH                      |")
        print("|                                              |")
        print("------------------------------------------------\n")
        print("", end="\n")


        print("Pilih menu pembayaran\n")
        print("1) Lunas\n" + "2) Cicilan\n")
        pilihan = int(input("Pilihan anda : "))
        
        print()

        #Kalau bayarnya NYICIL dan mobil yang dibeli adalah Sedan Lexus ES
        if(pilihan == 2 and mobil1 == 1):
            os.system('cls')
            print("------------------------------------------------")
            print("|                                              |")
            print("|                 JUAL BELI                    |")
            print("|                MOBIL ONLINE                  |")
            print("|                   MEWAH                      |")
            print("|                                              |")
            print("------------------------------------------------\n")
            print("", end="\n")
        
            print("Pelanggan atas nama : ", nama)
            print("Dengan usia : ", usia)
            print("Yang beralamat di : ", alamat)
            print("Dengan pekerjaan : ", pekerjaan)
            print("Dan berpenghasilan/bulan : ", penghasilan, "/bulan")
            print("", end="\n")
            print("Sedan Lexus ES")
            print("Harga mobil = Rp", (((counter - 1) + jumlah_mobil1)*(1040000000)))
            print("", end="\n")
            print("Pilih waktu untuk menyicil\n")
            print("1) 1 Tahun\n")
            print("2) 2 Tahun\n")
            cicil = int(input("Pilihan anda : "))

            #Kalau memilih nyicil dalam waktu 1 tahun
            if cicil == 1:
                os.system('cls')
                print("------------------------------------------------")
                print("|                                              |")
                print("|                 JUAL BELI                    |")
                print("|                MOBIL ONLINE                  |")
                print("|                   MEWAH                      |")
                print("|                                              |")
                print("------------------------------------------------\n")
                print("", end="\n")

                print(f"Anda akan menyicil mobil tersebut sebesar", {1040000000/12}, "/bulan\n")
                print("Mobil anda akan segera dikirim, dimohon untuk membayar cicilan tepat waktu!\n")
                print("", end="\n")

                saran = ""
                ratte = 0 
                rate = [1,2,3,4,5,6,7,8,9,10]
                ratte = int(input("Rate 1 - 10 untuk pelayanan kami : "))
                if ratte in rate[:6]:
                    print()
                    print("Tolong berikan saran, agar kami dapat meningkatkan pelayanan kami. ")
                    print("---------------------------------------------------------------------------------------")
                    saran = input("Berikan saran : ")
                    print()
                    print("---------------------------------------------------------------------------------------")
                    print("Terimakasih atas saran anda, kami akan memperbaiki layanan kami untuk kedepannya")
                elif ratte in rate[6:]:
                    print()
                    print("Terimakasih telah menggunakan layanan kami, rekomendasikan pada teman dan keluarga anda jika anda puas!")
                print()
                myFunction()
                exit()

            #Kalau memilih nyicil dalam waktu 2 tahun
            if cicil == 2:
                os.system('cls')
                print("------------------------------------------------")
                print("|                                              |")
                print("|                 JUAL BELI                    |")
                print("|                MOBIL ONLINE                  |")
                print("|                   MEWAH                      |")
                print("|                                              |")
                print("------------------------------------------------\n")
                print("", end="\n")

                print(f"Anda akan menyicil mobil tersebut sebesar", {1040000000/24}, "/bulan\n")
                print("Mobil anda akan segera dikirim, dimohon untuk membayar cicilan tepat waktu!\n")
                print("", end="\n")

                saran = ""
                ratte = 0 
                rate = [1,2,3,4,5,6,7,8,9,10]
                ratte = int(input("Rate 1 - 10 untuk pelayanan kami : "))
                if ratte in rate[:6]:
                    print()
                    print("Tolong berikan saran, agar kami dapat meningkatkan pelayanan kami. ")
                    print("---------------------------------------------------------------------------------------")
                    saran = input("Berikan saran : ")
                    print()
                    print("---------------------------------------------------------------------------------------")
                    print("Terimakasih atas saran anda, kami akan memperbaiki layanan kami untuk kedepannya")
                elif ratte in rate[6:]:
                    print()
                    print("Terimakasih telah menggunakan layanan kami, rekomendasikan pada teman dan keluarga anda jika anda puas!")
                print()
                myFunction()
                exit()

        #Kalau bayarnya NYICIL dan mobil yang dibeli adalah Honda Civic 
        if(pilihan == 2 and mobil1 == 2):
            os.system('cls')
            print("------------------------------------------------")
            print("|                                              |")
            print("|                 JUAL BELI                    |")
            print("|                MOBIL ONLINE                  |")
            print("|                   MEWAH                      |")
            print("|                                              |")
            print("------------------------------------------------\n")
            print("", end="\n")

            print("Pelanggan atas nama : ", nama)
            print("Dengan usia : ", usia)
            print("Yang beralamat di :", alamat)
            print("Dengan pekerjaan : ", pekerjaan)
            print("Dan berpenghasilan/bulan : ", penghasilan, "/bulan")
            print("", end="\n")
            print("Honda Civic")
            print("Harga mobil = Rp", (((counter-1)+jumlah_mobil1)*(1180000000)))
            print("", end="\n")
            print("pilih waktu untuk menyicil\n")
            print("", end="\n")
            print("1) 1 Tahun\n" "2) 2 Tahun\n")

            cicil = int(input("Pilihan anda : "))

            #Kalau memilih nyicil dalam waktu 1 tahun 
            if cicil == 1:
                os.system('cls')
                print("------------------------------------------------")
                print("|                                              |")
                print("|                 JUAL BELI                    |")
                print("|                MOBIL ONLINE                  |")
                print("|                   MEWAH                      |")
                print("|                                              |")
                print("------------------------------------------------\n")
                print("", end="\n")

                print(f"Anda akan menyicil mobil tersebut sebesar", {1180000000/12}, "/bulan\n")
                print("Mobil anda akan segera dikirim, dimohon untuk membayar cicilan tepat waktu!\n")
                print("", end="\n")

                saran = ""
                ratte = 0 
                rate = [1,2,3,4,5,6,7,8,9,10]
                ratte = int(input("Rate 1 - 10 untuk pelayanan kami : "))
                if ratte in rate[:6]:
                    print()
                    print("Tolong berikan saran, agar kami dapat meningkatkan pelayanan kami.\n")
                    print("---------------------------------------------------------------------------------------")
                    saran = input("Berikan saran : ")
                    print("---------------------------------------------------------------------------------------")
                    print("Terimakasih atas saran anda, kami akan memperbaiki layanan kami untuk kedepannya.")
                elif ratte in rate[6:]:
                    print()
                    print("Terimakasih telah menggunakan layanan kami, rekomendasikan pada teman dan keluarga anda jika anda puas!")                    
                print()
                myFunction()
                exit()
            
            #Kalau memilih nyicil dalam waktu 2 tahun
            if cicil == 2:
                os.system('cls')
                print("------------------------------------------------")
                print("|                                              |")
                print("|                 JUAL BELI                    |")
                print("|                MOBIL ONLINE                  |")
                print("|                   MEWAH                      |")
                print("|                                              |")
                print("------------------------------------------------\n")
                print("", end="\n")

                print(f"Anda akan menyicil mobil tersebut sebesar {1180000000/24} /bulan\n")
                print("Mobil anda akan segera dikirim, dimohon untuk membayar cicilan tepat waktu!\n")
                print("", end="\n")

                saran = ""
                ratte = 0 
                rate = [1,2,3,4,5,6,7,8,9,10]
                ratte = int(input("Rate 1 - 10 untuk pelayanan kami : "))
                if ratte in rate[:6]:
                    print()
                    print("Tolong berikan saran, agar kami dapat meningkatkan pelayanan kami.\n")
                    print("---------------------------------------------------------------------------------------")
                    saran = input("Berikan saran : ")
                    print("---------------------------------------------------------------------------------------")
                    print("Terimakasih atas saran anda, kami akan memperbaiki layanan kami untuk kedepannya.")
                elif ratte in rate[6:]:
                    print()
                    print("Terimakasih telah menggunakan layanan kami, rekomendasikan pada teman dan keluarga anda jika anda puas!")
                print()
                myFunction()
                exit()
            

        #Kalau bayarnya langsung LUNAS dan mobil yang dibeli Sedan Lexus ES
        if(pilihan == 1 and mobil1 == 1):
            os.system('cls')
            print("------------------------------------------------")
            print("|                                              |")
            print("|                 JUAL BELI                    |")
            print("|                MOBIL ONLINE                  |")
            print("|                   MEWAH                      |")
            print("|                                              |")
            print("------------------------------------------------\n")
            print("", end="\n")

            print("Pelanggan atas nama : ", nama)
            print("Dengan usia : ", usia)
            print("Yang beralamat di : ", alamat)
            print("Dengan pekerjaan : ", pekerjaan)
            print("Dan berpenghasilan/bulan : ", penghasilan, "/bulan")
            print("", end="\n")
            print("Sedan Lexus ES")
            print("Harga mobil = Rp", (((counter-1)+jumlah_mobil1)*(1040000000)))
            nml = int(input("Masukkan nominal pembayaran : "))
            print()

            #Kalau dana nya gak mencukupi
            if(nml < (1040000000)*((counter-1)+jumlah_mobil1)):
                os.system('cls')
                print("------------------------------------------------")
                print("|                                              |")
                print("|                 JUAL BELI                    |")
                print("|                MOBIL ONLINE                  |")
                print("|                   MEWAH                      |")
                print("|                                              |")
                print("------------------------------------------------\n")
                print("", end="\n")

                print("Maaf saldo anda tidak cukup, silahkan menabung dan membelinya di lain hari!")
       
                print("", end="\n")

                saran = ""
                ratte = 0 
                rate = [1,2,3,4,5,6,7,8,9,10]
                ratte = int(input("Rate 1 - 10 untuk pelayanan kami : "))
                if ratte in rate[:6]:
                    print()
                    print("Tolong berikan saran, agar kami dapat meningkatkan pelayanan kami.")
                    print("---------------------------------------------------------------------------------------------")
                    saran = input("Berikan saran : ")
                    print()
                    print("---------------------------------------------------------------------------------------------")
                    print("Terimakasih atas saran anda, kami akan memperbaiki layanan kami untuk kedepannya.")
                elif ratte in rate[6:]:
                    print()
                    print("Terimakasih telah menggunakan layanan kami.")
                print()
                myFunction1()
                exit()
                
            #Kalau dana nya cukup
            if (nml == (1040000000)*((counter-1)+jumlah_mobil1)):
                os.system('cls')
                print("------------------------------------------------")
                print("|                                              |")
                print("|                 JUAL BELI                    |")
                print("|                MOBIL ONLINE                  |")
                print("|                   MEWAH                      |")
                print("|                                              |")
                print("------------------------------------------------\n")
                print("", end="\n")

                print("Pembayaran berhasil!\n")
                print("Mobil anda akan segera dikirimkan!\n")

                print()

                saran = ""
                ratte = 0 
                rate = [1,2,3,4,5,6,7,8,9,10]
                ratte = int(input("Rate 1 - 10 untuk pelayanan kami : "))
                if ratte in rate[:6]:
                    print()
                    print("Tolong berikan saran, agar kami dapat meningkatkan pelayanan kami.")
                    print("---------------------------------------------------------------------------------------------")
                    saran = input("Berikan saran : ")
                    print()
                    print("---------------------------------------------------------------------------------------------")
                    print("Terimakasih atas saran anda, kami akan memperbaiki layanan kami untuk kedepannya.")
                elif ratte in rate[6:]:
                    print()
                    print("Terimakasih telah menggunakan layanan kami, rekomendasikan pada teman dan keluarga anda jika anda puas!")
                print()
                myFunction()
                exit()

            #Kalau dana nya berlebih
            if (nml > (1040000000)*((counter-1)+jumlah_mobil1)):
                os.system('cls')
                print("------------------------------------------------")
                print("|                                              |")
                print("|                 JUAL BELI                    |")
                print("|                MOBIL ONLINE                  |")
                print("|                   MEWAH                      |")
                print("|                                              |")
                print("------------------------------------------------\n")
                print("", end="\n")

                kembalian = nml - ((1040000000)*((counter-1)+jumlah_mobil1))
                print("Pembayaran berhasil!")
                print("Pesanan Anda Akan segera kami kirim!")
                print()
                print("kembalian dari sisa uang yang anda miliki adalah Rp.", kembalian)
                print("Ambil Uang Anda :)")
                print()
                
                print("", end="\n")
                saran = ""
                ratte = 0
                ratte = int(input("Beri nilai 1 - 10 untuk pelayanan kami : "))
                rate = [1,2,3,4,5,6,7,8,9,10]
                if ratte in rate[:6]:
                    print()
                    print("Tolong berikan saran, agar kami dapat meningkatkan pelayanan kami.")
                    print("---------------------------------------------------------------------------------------------")
                    saran = input("Berikan saran :")
                    print("", end="\n")
                    print("---------------------------------------------------------------------------------------------")
                    print("Terimakasih atas saran anda, kami akan memperbaiki layanan kami untuk kedepannya.")
                elif ratte in rate[6:]:
                    print("", end="\n")
                    print("Terimakasih telah menggunakan layanan kami, rekomendasikan pada teman dan keluarga anda jika anda puas!")

                print()
                myFunction()
                exit()

